{
 "cells": [
  {
   "cell_type": "markdown",
   "id": "1e1974fe",
   "metadata": {},
   "source": [
    "#### Install required libraries and tools:"
   ]
  },
  {
   "cell_type": "code",
   "execution_count": null,
   "id": "13cf82e6",
   "metadata": {},
   "outputs": [],
   "source": [
    "pip install wandb"
   ]
  },
  {
   "cell_type": "code",
   "execution_count": null,
   "id": "d8079e2e",
   "metadata": {},
   "outputs": [],
   "source": [
    "pip install tensorflow"
   ]
  },
  {
   "cell_type": "code",
   "execution_count": null,
   "id": "f64bee6e",
   "metadata": {},
   "outputs": [],
   "source": [
    "pip install opencv-python"
   ]
  },
  {
   "cell_type": "markdown",
   "id": "ff77b320",
   "metadata": {},
   "source": [
    "#### Importing the required libraries"
   ]
  },
  {
   "cell_type": "code",
   "execution_count": 1,
   "id": "5bec1cc3",
   "metadata": {},
   "outputs": [],
   "source": [
    "import tensorflow as tf\n",
    "import keras\n",
    "from keras import optimizers\n",
    "from keras.models import Sequential\n",
    "from tensorflow.keras.applications.resnet50 import preprocess_input\n",
    "from keras.layers import Dense, Conv2D , MaxPool2D , Flatten , Dropout , BatchNormalization\n",
    "from keras.preprocessing.image import ImageDataGenerator\n",
    "from keras.callbacks import ReduceLROnPlateau\n",
    "from keras.callbacks import EarlyStopping\n",
    "from keras.callbacks import ReduceLROnPlateau\n",
    "from keras.utils.np_utils import to_categorical\n",
    "\n",
    "from tensorflow.keras.models import Model\n",
    "from tensorflow.keras.callbacks import ModelCheckpoint, Callback\n",
    "from tensorflow.keras.optimizers import Adam, SGD, RMSprop\n",
    "from tensorflow.keras.applications import ResNet50\n",
    "from tensorflow.keras.layers import Input, Dropout\n",
    "from tensorflow.keras.layers import Dense, GlobalAveragePooling2D\n",
    "\n",
    "import numpy as np\n",
    "import pandas as pd\n",
    "import matplotlib.pyplot as plt\n",
    "import seaborn as sns\n",
    "import cv2\n",
    "import os\n",
    "from pathlib import Path\n",
    "import wandb\n",
    "from wandb.keras import WandbCallback\n",
    "from sklearn.model_selection import train_test_split\n",
    "from sklearn.metrics import classification_report,confusion_matrix"
   ]
  },
  {
   "cell_type": "markdown",
   "id": "1266a5ee",
   "metadata": {},
   "source": [
    "#### Read the X-Ray Scan images of the Training data, validation data and test data after resizing them to 224 * 224 using cv2"
   ]
  },
  {
   "cell_type": "code",
   "execution_count": 2,
   "id": "15c69390",
   "metadata": {},
   "outputs": [
    {
     "name": "stdout",
     "output_type": "stream",
     "text": [
      "\n",
      "\n"
     ]
    },
    {
     "name": "stderr",
     "output_type": "stream",
     "text": [
      "C:\\Users\\panka\\AppData\\Local\\Temp/ipykernel_7904/1112335968.py:22: VisibleDeprecationWarning: Creating an ndarray from ragged nested sequences (which is a list-or-tuple of lists-or-tuples-or ndarrays with different lengths or shapes) is deprecated. If you meant to do this, you must specify 'dtype=object' when creating the ndarray.\n",
      "  return np.array(data)\n"
     ]
    },
    {
     "name": "stdout",
     "output_type": "stream",
     "text": [
      "\n",
      "train_data.shape -  (5200, 2)\n",
      "val_data.shape -  (24, 2)\n",
      "test_data.shape -  (624, 2)\n"
     ]
    }
   ],
   "source": [
    "directory_train ='train'\n",
    "directory_val = 'val'\n",
    "directory_test = 'test'\n",
    "labels = ['bacterial_pneumonia', 'viral_pneumonia',  'normal']\n",
    "img_size = 224\n",
    "\n",
    "def fetch_data(directory):\n",
    "    data = [] \n",
    "    for label in labels: \n",
    "        path = os.path.join(directory, label)\n",
    "        class_num = labels.index(label)\n",
    "        os.listdir()\n",
    "        for img in os.listdir(path):\n",
    "            try:\n",
    "                img_arr = cv2.imread(os.path.join(path, img), cv2.IMREAD_GRAYSCALE)\n",
    "                resized_arr = cv2.resize(img_arr, (img_size, img_size))\n",
    "                resized_arr = np.multiply(resized_arr, 1./255)\n",
    "                data.append([resized_arr, class_num])\n",
    "            except Exception as e:\n",
    "                print(e)\n",
    "    print()\n",
    "    return np.array(data)\n",
    "\n",
    "train_data = fetch_data(directory_train)\n",
    "val_data = fetch_data(directory_val)\n",
    "test_data = fetch_data(directory_test)\n",
    "\n",
    "print('train_data.shape - ',train_data.shape)\n",
    "print('val_data.shape - ',val_data.shape)\n",
    "print('test_data.shape - ',test_data.shape)"
   ]
  },
  {
   "cell_type": "code",
   "execution_count": 3,
   "id": "7aaeb8ad",
   "metadata": {},
   "outputs": [
    {
     "name": "stdout",
     "output_type": "stream",
     "text": [
      "train set:  (5200, 224, 224) (5200, 3)\n",
      "val set:  (24, 224, 224) (24, 3)\n",
      "test set:  (624, 224, 224) (624, 3)\n"
     ]
    }
   ],
   "source": [
    "# Number of classes is 3 - Normal,Bacterial pneumonia and Viral pneumonia:\n",
    "number_classes=3\n",
    "X_train = np.stack(train_data[:,0]).reshape(-1, img_size, img_size).astype('float32')\n",
    "y_train = to_categorical(np.array(train_data[:,1], dtype='float64'), num_classes=number_classes)\n",
    "X_val = np.stack(val_data[:,0]).reshape(-1, img_size, img_size).astype('float32')\n",
    "y_val = to_categorical(np.array(val_data[:,1], dtype='float64'), num_classes=number_classes)\n",
    "X_test = np.stack(test_data[:,0]).reshape(-1, img_size, img_size).astype('float32')\n",
    "y_test = to_categorical(np.array(test_data[:,1], dtype='float64'), num_classes=number_classes)\n",
    "print('train set: ',X_train.shape, y_train.shape)\n",
    "print('val set: ',X_val.shape, y_val.shape)\n",
    "print('test set: ',X_test.shape, y_test.shape)\n",
    "\n",
    "#Deleting the previous variables not needed further in the code, to free up RAM\n",
    "del(train_data)\n",
    "del(val_data)\n",
    "del(test_data)"
   ]
  },
  {
   "cell_type": "code",
   "execution_count": 4,
   "id": "abbdb345",
   "metadata": {},
   "outputs": [],
   "source": [
    "#function definition giving a graph visualizing data balance\n",
    "\n",
    "def data_balance_graph(y_train, plotting):\n",
    "  l = []\n",
    "  for i in np.argmax(y_train, axis=1): # y_train\n",
    "    if(i == 0):\n",
    "      l.append(\"bacterial_pneumonia\")\n",
    "    elif(i == 1):\n",
    "      l.append(\"viral_pneumonia\")\n",
    "    elif (i == 2):\n",
    "      l.append(\"normal\")\n",
    "    else:\n",
    "      l.append(\"unknown\")\n",
    "  if plotting==1:\n",
    "    sns.set_style('darkgrid')\n",
    "    sns.countplot(l)\n",
    "  print(\"bacterial_pneumonia / viral_pneumonia / normal / unknown\")\n",
    "  print(l.count(\"bacterial_pneumonia\"),\" / \",l.count(\"viral_pneumonia\"),\" / \", l.count(\"normal\"),\" / \", l.count(\"unknown\"))"
   ]
  },
  {
   "cell_type": "code",
   "execution_count": 5,
   "id": "293f7c9a",
   "metadata": {},
   "outputs": [],
   "source": [
    "#function to read and display augmented image (used later)\n",
    "\n",
    "def plot_image(X_train, y_train):\n",
    "  fig, axs = plt.subplots(1,3,figsize=(12,4))\n",
    "\n",
    "  idx = 0\n",
    "  check = np.zeros(3, dtype='uint8')\n",
    "  for i in np.argmax(y_train, axis=1): \n",
    "    if(check[i]==1): continue\n",
    "    axs[i].imshow(np.reshape(X_train[idx], (img_size,img_size)), cmap='gray')\n",
    "    check[i] = 1\n",
    "    idx += 1\n",
    "    if(np.sum(check)==3): break\n",
    "    \n",
    "  axs[0].set_title(\"bacterial\")\n",
    "  axs[1].set_title(\"viral\")\n",
    "  axs[2].set_title(\"normal\")\n",
    "  for i in range(3):\n",
    "    axs[i].grid(b=False)"
   ]
  },
  {
   "cell_type": "markdown",
   "id": "7749b73d",
   "metadata": {},
   "source": [
    "#### Data Pre-Processing"
   ]
  },
  {
   "cell_type": "code",
   "execution_count": 6,
   "id": "c4e56c89",
   "metadata": {},
   "outputs": [],
   "source": [
    "#Albumentations python library used for Data Augmentation\n",
    "\n",
    "#pip install albumentations\n",
    "from IPython.display import display, HTML \n",
    "from albumentations import (VerticalFlip, HorizontalFlip, Flip, RandomRotate90, Rotate, ShiftScaleRotate, CenterCrop, OpticalDistortion, GridDistortion, ElasticTransform, JpegCompression, HueSaturationValue,\n",
    "                            RGBShift, RandomBrightness, RandomContrast, Blur, MotionBlur, MedianBlur, GaussNoise, CLAHE, ChannelShuffle, InvertImg, RandomGamma, ToGray, PadIfNeeded \n",
    "                           )\n",
    "import albumentations as alb"
   ]
  },
  {
   "cell_type": "code",
   "execution_count": 7,
   "id": "54532e07",
   "metadata": {},
   "outputs": [],
   "source": [
    "#Initializing the probability of various transformations available under albumentations library and setting the\n",
    "# values for attributes such as scaling, rotation degrees etc.\n",
    "\n",
    "alb_config = {\n",
    "    'target_size': 224,\n",
    "    'seed': 23,\n",
    "    'batch_size': 8,\n",
    "    'enable_preprocessing': False,\n",
    "\n",
    "    'augm_p_corrections': 0.3,\n",
    "    'augm_p_contrast': 1,\n",
    "    'augm_p_gamma': 1,\n",
    "    'augm_p_brightness': 1,\n",
    "\n",
    "    'augm_p_blurs': 0.5,\n",
    "    'augm_p_blur': 1,\n",
    "    'augm_p_motionblur': 1,\n",
    "    'augm_p_medianblur': 1,\n",
    "\n",
    "    'augm_p_distortions': 0.3,\n",
    "    'augm_p_elastic': 1,\n",
    "    'augm_p_grid': 1,\n",
    "    'augm_p_optical': 1,\n",
    "\n",
    "    'augm_p_shiftscalrot': 0.3,\n",
    "    'augm_shift_limit': 0.2,\n",
    "    'augm_scale_limit': 0.1,\n",
    "    'augm_rotate_limit': 15,\n",
    "}"
   ]
  },
  {
   "cell_type": "code",
   "execution_count": 8,
   "id": "2cea881a",
   "metadata": {},
   "outputs": [],
   "source": [
    "#Applying the transformations of albumentations library:\n",
    "\n",
    "augm = alb.Compose([\n",
    "        alb.HorizontalFlip(), #Flips the image horizontally along the y-axis\n",
    "        alb.OneOf([\n",
    "            alb.RandomGamma(p=alb_config[\"augm_p_gamma\"]),\n",
    "        ],\n",
    "            p=alb_config[\"augm_p_corrections\"]),\n",
    "        alb.OneOf([\n",
    "            alb.Blur(blur_limit=4, p=alb_config[\"augm_p_blur\"]), #Blur the input image using random-sized kernal\n",
    "            alb.MotionBlur(blur_limit=4, p=alb_config[\"augm_p_motionblur\"]), #Apply motion blur to the input image using a random-sized kernel\n",
    "        ],\n",
    "            p=alb_config[\"augm_p_blurs\"]),\n",
    "        alb.OneOf([\n",
    "            alb.ElasticTransform(alpha=60, #\n",
    "                                 sigma=60 * 0.15,\n",
    "                                 alpha_affine=60 * 0.03,\n",
    "                                 p=alb_config[\"augm_p_elastic\"]), #Performs elastic deformation of images\n",
    "            alb.GridDistortion(p=alb_config[\"augm_p_grid\"]),      ##Performs grid distortions of images\n",
    "            alb.OpticalDistortion(\n",
    "                distort_limit=0.3, shift_limit=0.1, p=alb_config[\"augm_p_optical\"]), # performs Optical Distortion of images\n",
    "        ],\n",
    "            p=alb_config[\"augm_p_distortions\"]),\n",
    "        alb.ShiftScaleRotate(shift_limit=alb_config[\"augm_shift_limit\"],\n",
    "                             scale_limit=alb_config[\"augm_scale_limit\"],\n",
    "                             rotate_limit=alb_config[\"augm_rotate_limit\"],\n",
    "                             interpolation=cv2.INTER_LINEAR,\n",
    "                             border_mode=cv2.BORDER_CONSTANT,\n",
    "                             p=alb_config[\"augm_p_shiftscalrot\"]),#Performs translate,scale & rotation of images\n",
    "    ])"
   ]
  },
  {
   "cell_type": "code",
   "execution_count": 9,
   "id": "75a80f06",
   "metadata": {},
   "outputs": [
    {
     "data": {
      "image/png": "[encoded data removed]",
      "text/plain": [
       "<Figure size 864x288 with 3 Axes>"
      ]
     },
     "metadata": {
      "needs_background": "light"
     },
     "output_type": "display_data"
    }
   ],
   "source": [
    "#function to perform augmentation\n",
    "def get_alb_aug(X_train):\n",
    "  aug_img = np.zeros(X_train.shape)\n",
    "  for i in range(X_train.shape[0]):\n",
    "    aug_img[i] = augm(image=X_train[i])['image']\n",
    "  return aug_img\n",
    "\n",
    "X_train_aug = get_alb_aug(X_train.copy())\n",
    "plot_image(X_train_aug,y_train) #prints the images derived through Augmentation.\n",
    "del(X_train_aug) #Deleting the variable, not used further to free up RAM"
   ]
  },
  {
   "cell_type": "code",
   "execution_count": 10,
   "id": "7c95d13a",
   "metadata": {},
   "outputs": [],
   "source": [
    "#get balance count\n",
    "def get_balance(y_train):\n",
    "  l = []\n",
    "  for i in np.argmax(y_train, axis=1): # y_train\n",
    "    if(i == 0):\n",
    "      l.append(\"bacterial_pneumonia\")\n",
    "    elif(i == 1):\n",
    "      l.append(\"viral_pneumonia\")\n",
    "    elif (i == 2):\n",
    "      l.append(\"normal\")\n",
    "    else:\n",
    "      l.append(\"unknown\")\n",
    "  balance = np.zeros(3)\n",
    "  balance[0] = l.count(\"bacterial_pneumonia\")\n",
    "  balance[1] = l.count(\"viral_pneumonia\")\n",
    "  balance[2] = l.count(\"normal\")\n",
    "  balance = np.array(balance, dtype='uint32')\n",
    "  return balance"
   ]
  },
  {
   "cell_type": "code",
   "execution_count": 11,
   "id": "ebeb4716",
   "metadata": {},
   "outputs": [],
   "source": [
    "#function to perform undersampling on the image data\n",
    "def undersampling(X_train, y_train, target_num, shuffle):\n",
    "  X_train_result = np.zeros((np.sum(target_num), img_size,img_size))\n",
    "  y_train_result = np.zeros((np.sum(target_num), 3))\n",
    "\n",
    "  if shuffle==1:\n",
    "    s = np.arange(X_train.shape[0])\n",
    "    np.random.shuffle(s)\n",
    "    X_train = np.reshape(np.array(X_train, dtype=np.uint8)[s], (-1, img_size,img_size))\n",
    "    y_train = y_train[s]\n",
    "  \n",
    "  idx=0\n",
    "  i=0\n",
    "  cnt = np.zeros(3)\n",
    "  labels = np.argmax(y_train, axis=1)\n",
    "  while(1):\n",
    "    label = labels[i]\n",
    "    i+=1\n",
    "    if np.sum(cnt)==np.sum(target_num): break\n",
    "    if idx==sum(target_num): break\n",
    "    if i==5200: break\n",
    "    if cnt[label]==target_num[label]:\n",
    "      continue\n",
    "    cnt[label]+=1\n",
    "    X_train_result[idx]=np.reshape(X_train[i-1], (img_size,img_size))\n",
    "    y_train_result[idx]=y_train[i-1]\n",
    "    idx+=1\n",
    "\n",
    "  return X_train_result, y_train_result"
   ]
  },
  {
   "cell_type": "code",
   "execution_count": 12,
   "id": "d38f46be",
   "metadata": {},
   "outputs": [],
   "source": [
    "#function to perform oversampling on the image data\n",
    "def oversampling(X_train, y_train, max_num, shuffle):\n",
    "\n",
    "  balance = get_balance(y_train)\n",
    "  target_num = np.array([max_num-balance[0], max_num-balance[1], max_num-balance[2]],dtype='uint32')\n",
    "\n",
    "  X_train_u, y_train_u = undersampling(X_train.copy(), y_train.copy(), target_num, shuffle)\n",
    "\n",
    "  balance = get_balance(y_train_u)\n",
    "\n",
    "  X_train_result = np.zeros((max_num,img_size,img_size))\n",
    "  y_train_result = np.zeros((max_num,3))\n",
    "  X_train_result = np.concatenate([X_train, X_train_u])\n",
    "  y_train_result = np.concatenate([y_train, y_train_u])\n",
    "\n",
    "  return X_train_result, y_train_result"
   ]
  },
  {
   "cell_type": "code",
   "execution_count": 13,
   "id": "52616ccd",
   "metadata": {},
   "outputs": [
    {
     "name": "stdout",
     "output_type": "stream",
     "text": [
      "bacterial_pneumonia / viral_pneumonia / normal / unknown\n",
      "2530  /  2530  /  2530  /  0\n"
     ]
    },
    {
     "name": "stderr",
     "output_type": "stream",
     "text": [
      "C:\\Users\\panka\\anaconda3\\lib\\site-packages\\seaborn\\_decorators.py:36: FutureWarning: Pass the following variable as a keyword arg: x. From version 0.12, the only valid positional argument will be `data`, and passing other arguments without an explicit keyword will result in an error or misinterpretation.\n",
      "  warnings.warn(\n"
     ]
    },
    {
     "data": {
      "image/png": "[encoded data removed]",
      "text/plain": [
       "<Figure size 432x288 with 1 Axes>"
      ]
     },
     "metadata": {},
     "output_type": "display_data"
    }
   ],
   "source": [
    "X_train_osamp, y_train_osamp = oversampling(X_train, y_train,2530 , 0)#Perform oversampling and make equal number of images of all 3 classes\n",
    "\n",
    "data_balance_graph(y_train_osamp,1)#Plot graph to show the number of images of each class\n",
    "del(X_train_osamp)\n",
    "del(y_train_osamp)"
   ]
  },
  {
   "cell_type": "code",
   "execution_count": 14,
   "id": "954b71af",
   "metadata": {},
   "outputs": [
    {
     "name": "stderr",
     "output_type": "stream",
     "text": [
      "wandb: Currently logged in as: sharukh (use `wandb login --relogin` to force relogin)\n"
     ]
    }
   ],
   "source": [
    "!wandb login\n",
    "#Important - wandb used for model development and evaluation. Create account and login for execution."
   ]
  },
  {
   "cell_type": "markdown",
   "id": "93b7cd4b",
   "metadata": {},
   "source": [
    "wandb: You can find your API key in your browser here: https://wandb.ai/authorize"
   ]
  },
  {
   "cell_type": "markdown",
   "id": "dc02a508",
   "metadata": {},
   "source": [
    "wandb: Paste an API key from your profile and hit enter:"
   ]
  },
  {
   "cell_type": "code",
   "execution_count": 15,
   "id": "ad895659",
   "metadata": {},
   "outputs": [],
   "source": [
    "#Defining model training metrics\n",
    "early_stopping =EarlyStopping(monitor=\"val_loss\",\n",
    "                         min_delta = .001,\n",
    "                         patience=6,\n",
    "                         mode=\"auto\",\n",
    "                         verbose=1,\n",
    "                         restore_best_weights = True\n",
    "                        ) #Stop training when val_loss has stopped improving.\n",
    "\n",
    "Learning_rate_reduction=ReduceLROnPlateau(monitor='accuracy',\n",
    "                                          factor=0.5,\n",
    "                                          patience=5, \n",
    "                                          verbose=1, \n",
    "                                          min_delta = 0.01\n",
    "                                          ) #Reduce learning rate when val_accuracy stops improving\n",
    "\n",
    "checkpoint = ModelCheckpoint(filepath='/Users/panka/Sharukh Project/chest_xray/checkpoint/{epoch:02d}-{accuracy:.5f}.h5',\n",
    "                        save_weights_only=True, \n",
    "                        save_best_only = True,\n",
    "                        verbose=1, \n",
    "                        mode='min', \n",
    "                        monitor='loss'\n",
    "                        )#Callback to save the Keras model"
   ]
  },
  {
   "cell_type": "markdown",
   "id": "74ac8489",
   "metadata": {},
   "source": [
    "Use - appropriate path or else error will be given - /Users/panka/Sharukh Project/chest_xray/checkpoint"
   ]
  },
  {
   "cell_type": "markdown",
   "id": "400cdda6",
   "metadata": {},
   "source": [
    "#### Defining our Model"
   ]
  },
  {
   "cell_type": "code",
   "execution_count": 16,
   "id": "8d3acdf2",
   "metadata": {},
   "outputs": [],
   "source": [
    "from tensorflow.keras.applications import ResNet50\n",
    "from tensorflow.keras.layers import Input, Dropout\n",
    "from tensorflow.keras.layers import Dense, GlobalAveragePooling2D\n",
    "\n",
    "with tf.device('/device:GPU:0'): \n",
    "  def build_model():\n",
    "      img_input = tf.keras.Input(shape=(img_size, img_size,1), name='ImageInput')\n",
    "      img_conc = tf.keras.layers.Concatenate()([img_input, img_input, img_input])\n",
    "\n",
    "     #Creating the base pre-trained model\n",
    "      base_model = ResNet50( weights='imagenet', include_top=False, input_tensor=img_conc )\n",
    "      for layer in base_model.layers[:144]: \n",
    "          layer.trainable = False  \n",
    "\n",
    "      for i, layer in enumerate(base_model.layers):\n",
    "        print(i, layer.name, \"-\", layer.trainable)\n",
    "\n",
    "      # adding a global spatial average pooling layer\n",
    "      x = base_model.output\n",
    "      x = GlobalAveragePooling2D()(x) \n",
    "      x = BatchNormalization(name='batchNorm1')(x)\n",
    "      x = Dense(128, activation='relu', name='fc1', kernel_regularizer=keras.regularizers.l2(0.001))(x)\n",
    "      x = Dropout(0.5, name='dropout1')(x)   \n",
    "      x = BatchNormalization(name='batchNorm2')(x)\n",
    "      x = Dense(64, activation='relu', name='fc2',kernel_regularizer=keras.regularizers.l2(0.001))(x) \n",
    "      x = Dropout(0.5, name='dropout2')(x) \n",
    "      x = BatchNormalization(name='batchNorm3')(x)\n",
    "      x = Dense(64, activation='relu', name='fc3',kernel_regularizer=keras.regularizers.l2(0.001))(x) \n",
    "      x = Dropout(0.5, name='dropout3')(x) \n",
    "        \n",
    "      predictions = Dense(3, activation='softmax', name='fc4')(x) \n",
    "    \n",
    "      model = Model(inputs=img_input, outputs=predictions)\n",
    "      return model"
   ]
  },
  {
   "cell_type": "code",
   "execution_count": 18,
   "id": "cf57320f",
   "metadata": {},
   "outputs": [
    {
     "data": {
      "text/html": [
       "Finishing last run (ID:1m6xpcv0) before initializing another..."
      ],
      "text/plain": [
       "<IPython.core.display.HTML object>"
      ]
     },
     "metadata": {},
     "output_type": "display_data"
    },
    {
     "data": {
      "text/html": [
       "<br/>Waiting for W&B process to finish, PID 18224... <strong style=\"color:green\">(success).</strong>"
      ],
      "text/plain": [
       "<IPython.core.display.HTML object>"
      ]
     },
     "metadata": {},
     "output_type": "display_data"
    },
    {
     "data": {
      "application/vnd.jupyter.widget-view+json": {
       "model_id": "",
       "version_major": 2,
       "version_minor": 0
      },
      "text/plain": [
       "VBox(children=(Label(value=' 0.00MB of 0.00MB uploaded (0.00MB deduped)\\r'), FloatProgress(value=1.0, max=1.0)…"
      ]
     },
     "metadata": {},
     "output_type": "display_data"
    },
    {
     "data": {
      "text/html": [
       "<style>\n",
       "    table.wandb td:nth-child(1) { padding: 0 10px; text-align: right }\n",
       "    .wandb-row { display: flex; flex-direction: row; flex-wrap: wrap; width: 100% }\n",
       "    .wandb-col { display: flex; flex-direction: column; flex-basis: 100%; flex: 1; padding: 10px; }\n",
       "    </style>\n",
       "<div class=\"wandb-row\"><div class=\"wandb-col\">\n",
       "</div><div class=\"wandb-col\">\n",
       "</div></div>\n",
       "Synced 5 W&B file(s), 0 media file(s), 0 artifact file(s) and 0 other file(s)\n",
       "<br/>Synced <strong style=\"color:#cdcd00\">vital-dawn-30</strong>: <a href=\"https://wandb.ai/sharukh/Final_AIAS/runs/1m6xpcv0\" target=\"_blank\">https://wandb.ai/sharukh/Final_AIAS/runs/1m6xpcv0</a><br/>\n",
       "Find logs at: <code>.\\wandb\\run-20211208_065557-1m6xpcv0\\logs</code><br/>\n"
      ],
      "text/plain": [
       "<IPython.core.display.HTML object>"
      ]
     },
     "metadata": {},
     "output_type": "display_data"
    },
    {
     "data": {
      "text/html": [
       "Successfully finished last run (ID:1m6xpcv0). Initializing new run:<br/>"
      ],
      "text/plain": [
       "<IPython.core.display.HTML object>"
      ]
     },
     "metadata": {},
     "output_type": "display_data"
    },
    {
     "data": {
      "text/html": [
       "\n",
       "                    Syncing run <strong><a href=\"https://wandb.ai/sharukh/Final_AIAS/runs/12u17us2\" target=\"_blank\">olive-rain-31</a></strong> to <a href=\"https://wandb.ai/sharukh/Final_AIAS\" target=\"_blank\">Weights & Biases</a> (<a href=\"https://docs.wandb.com/integrations/jupyter.html\" target=\"_blank\">docs</a>).<br/>\n",
       "\n",
       "                "
      ],
      "text/plain": [
       "<IPython.core.display.HTML object>"
      ]
     },
     "metadata": {},
     "output_type": "display_data"
    }
   ],
   "source": [
    "# Setting the parameters for the model\n",
    "run = wandb.init(project='Final_AIAS',\n",
    "                config={  \n",
    "                    \"learning_rate\": 0.0001,\n",
    "                    \"epochs\": 50,\n",
    "                    \"batch_size\": 32,\n",
    "                    \"loss_function\": \"categorical_crossentropy\",\n",
    "                    \"architecture\": \"RenNet-50\",\n",
    "                    \"dataset\": \"original+augm*3((balanced))\"\n",
    "                })\n",
    "config = wandb.config  #Using it to configure the model\n",
    "callbacks=[Learning_rate_reduction, checkpoint, WandbCallback()]\n",
    "tf.keras.backend.clear_session()\n"
   ]
  },
  {
   "cell_type": "code",
   "execution_count": 19,
   "id": "180affe6",
   "metadata": {},
   "outputs": [
    {
     "name": "stdout",
     "output_type": "stream",
     "text": [
      "0 ImageInput - False\n",
      "1 concatenate - False\n",
      "2 conv1_pad - False\n",
      "3 conv1_conv - False\n",
      "4 conv1_bn - False\n",
      "5 conv1_relu - False\n",
      "6 pool1_pad - False\n",
      "7 pool1_pool - False\n",
      "8 conv2_block1_1_conv - False\n",
      "9 conv2_block1_1_bn - False\n",
      "10 conv2_block1_1_relu - False\n",
      "11 conv2_block1_2_conv - False\n",
      "12 conv2_block1_2_bn - False\n",
      "13 conv2_block1_2_relu - False\n",
      "14 conv2_block1_0_conv - False\n",
      "15 conv2_block1_3_conv - False\n",
      "16 conv2_block1_0_bn - False\n",
      "17 conv2_block1_3_bn - False\n",
      "18 conv2_block1_add - False\n",
      "19 conv2_block1_out - False\n",
      "20 conv2_block2_1_conv - False\n",
      "21 conv2_block2_1_bn - False\n",
      "22 conv2_block2_1_relu - False\n",
      "23 conv2_block2_2_conv - False\n",
      "24 conv2_block2_2_bn - False\n",
      "25 conv2_block2_2_relu - False\n",
      "26 conv2_block2_3_conv - False\n",
      "27 conv2_block2_3_bn - False\n",
      "28 conv2_block2_add - False\n",
      "29 conv2_block2_out - False\n",
      "30 conv2_block3_1_conv - False\n",
      "31 conv2_block3_1_bn - False\n",
      "32 conv2_block3_1_relu - False\n",
      "33 conv2_block3_2_conv - False\n",
      "34 conv2_block3_2_bn - False\n",
      "35 conv2_block3_2_relu - False\n",
      "36 conv2_block3_3_conv - False\n",
      "37 conv2_block3_3_bn - False\n",
      "38 conv2_block3_add - False\n",
      "39 conv2_block3_out - False\n",
      "40 conv3_block1_1_conv - False\n",
      "41 conv3_block1_1_bn - False\n",
      "42 conv3_block1_1_relu - False\n",
      "43 conv3_block1_2_conv - False\n",
      "44 conv3_block1_2_bn - False\n",
      "45 conv3_block1_2_relu - False\n",
      "46 conv3_block1_0_conv - False\n",
      "47 conv3_block1_3_conv - False\n",
      "48 conv3_block1_0_bn - False\n",
      "49 conv3_block1_3_bn - False\n",
      "50 conv3_block1_add - False\n",
      "51 conv3_block1_out - False\n",
      "52 conv3_block2_1_conv - False\n",
      "53 conv3_block2_1_bn - False\n",
      "54 conv3_block2_1_relu - False\n",
      "55 conv3_block2_2_conv - False\n",
      "56 conv3_block2_2_bn - False\n",
      "57 conv3_block2_2_relu - False\n",
      "58 conv3_block2_3_conv - False\n",
      "59 conv3_block2_3_bn - False\n",
      "60 conv3_block2_add - False\n",
      "61 conv3_block2_out - False\n",
      "62 conv3_block3_1_conv - False\n",
      "63 conv3_block3_1_bn - False\n",
      "64 conv3_block3_1_relu - False\n",
      "65 conv3_block3_2_conv - False\n",
      "66 conv3_block3_2_bn - False\n",
      "67 conv3_block3_2_relu - False\n",
      "68 conv3_block3_3_conv - False\n",
      "69 conv3_block3_3_bn - False\n",
      "70 conv3_block3_add - False\n",
      "71 conv3_block3_out - False\n",
      "72 conv3_block4_1_conv - False\n",
      "73 conv3_block4_1_bn - False\n",
      "74 conv3_block4_1_relu - False\n",
      "75 conv3_block4_2_conv - False\n",
      "76 conv3_block4_2_bn - False\n",
      "77 conv3_block4_2_relu - False\n",
      "78 conv3_block4_3_conv - False\n",
      "79 conv3_block4_3_bn - False\n",
      "80 conv3_block4_add - False\n",
      "81 conv3_block4_out - False\n",
      "82 conv4_block1_1_conv - False\n",
      "83 conv4_block1_1_bn - False\n",
      "84 conv4_block1_1_relu - False\n",
      "85 conv4_block1_2_conv - False\n",
      "86 conv4_block1_2_bn - False\n",
      "87 conv4_block1_2_relu - False\n",
      "88 conv4_block1_0_conv - False\n",
      "89 conv4_block1_3_conv - False\n",
      "90 conv4_block1_0_bn - False\n",
      "91 conv4_block1_3_bn - False\n",
      "92 conv4_block1_add - False\n",
      "93 conv4_block1_out - False\n",
      "94 conv4_block2_1_conv - False\n",
      "95 conv4_block2_1_bn - False\n",
      "96 conv4_block2_1_relu - False\n",
      "97 conv4_block2_2_conv - False\n",
      "98 conv4_block2_2_bn - False\n",
      "99 conv4_block2_2_relu - False\n",
      "100 conv4_block2_3_conv - False\n",
      "101 conv4_block2_3_bn - False\n",
      "102 conv4_block2_add - False\n",
      "103 conv4_block2_out - False\n",
      "104 conv4_block3_1_conv - False\n",
      "105 conv4_block3_1_bn - False\n",
      "106 conv4_block3_1_relu - False\n",
      "107 conv4_block3_2_conv - False\n",
      "108 conv4_block3_2_bn - False\n",
      "109 conv4_block3_2_relu - False\n",
      "110 conv4_block3_3_conv - False\n",
      "111 conv4_block3_3_bn - False\n",
      "112 conv4_block3_add - False\n",
      "113 conv4_block3_out - False\n",
      "114 conv4_block4_1_conv - False\n",
      "115 conv4_block4_1_bn - False\n",
      "116 conv4_block4_1_relu - False\n",
      "117 conv4_block4_2_conv - False\n",
      "118 conv4_block4_2_bn - False\n",
      "119 conv4_block4_2_relu - False\n",
      "120 conv4_block4_3_conv - False\n",
      "121 conv4_block4_3_bn - False\n",
      "122 conv4_block4_add - False\n",
      "123 conv4_block4_out - False\n",
      "124 conv4_block5_1_conv - False\n",
      "125 conv4_block5_1_bn - False\n",
      "126 conv4_block5_1_relu - False\n",
      "127 conv4_block5_2_conv - False\n",
      "128 conv4_block5_2_bn - False\n",
      "129 conv4_block5_2_relu - False\n",
      "130 conv4_block5_3_conv - False\n",
      "131 conv4_block5_3_bn - False\n",
      "132 conv4_block5_add - False\n",
      "133 conv4_block5_out - False\n",
      "134 conv4_block6_1_conv - False\n",
      "135 conv4_block6_1_bn - False\n",
      "136 conv4_block6_1_relu - False\n",
      "137 conv4_block6_2_conv - False\n",
      "138 conv4_block6_2_bn - False\n",
      "139 conv4_block6_2_relu - False\n",
      "140 conv4_block6_3_conv - False\n",
      "141 conv4_block6_3_bn - False\n",
      "142 conv4_block6_add - False\n",
      "143 conv4_block6_out - False\n",
      "144 conv5_block1_1_conv - True\n",
      "145 conv5_block1_1_bn - True\n",
      "146 conv5_block1_1_relu - True\n",
      "147 conv5_block1_2_conv - True\n",
      "148 conv5_block1_2_bn - True\n",
      "149 conv5_block1_2_relu - True\n",
      "150 conv5_block1_0_conv - True\n",
      "151 conv5_block1_3_conv - True\n",
      "152 conv5_block1_0_bn - True\n",
      "153 conv5_block1_3_bn - True\n",
      "154 conv5_block1_add - True\n",
      "155 conv5_block1_out - True\n",
      "156 conv5_block2_1_conv - True\n",
      "157 conv5_block2_1_bn - True\n",
      "158 conv5_block2_1_relu - True\n",
      "159 conv5_block2_2_conv - True\n",
      "160 conv5_block2_2_bn - True\n",
      "161 conv5_block2_2_relu - True\n",
      "162 conv5_block2_3_conv - True\n",
      "163 conv5_block2_3_bn - True\n",
      "164 conv5_block2_add - True\n",
      "165 conv5_block2_out - True\n",
      "166 conv5_block3_1_conv - True\n",
      "167 conv5_block3_1_bn - True\n",
      "168 conv5_block3_1_relu - True\n",
      "169 conv5_block3_2_conv - True\n",
      "170 conv5_block3_2_bn - True\n",
      "171 conv5_block3_2_relu - True\n",
      "172 conv5_block3_3_conv - True\n",
      "173 conv5_block3_3_bn - True\n",
      "174 conv5_block3_add - True\n",
      "175 conv5_block3_out - True\n",
      ">> Original\n",
      "      X_model_train: (5200, 224, 224)\n",
      "      y_model_train: (5200, 3)\n",
      ">> Oversampling\n",
      "after oversampling\n",
      "   X_model_train_oversampled (7590, 224, 224)\n",
      "   y_model_train_oversampled (7590, 3)\n",
      "\n"
     ]
    }
   ],
   "source": [
    "X = np.concatenate([X_train, X_val])\n",
    "Y = np.concatenate([y_train, y_val])\n",
    "\n",
    "skf = KFold(n_splits=9, shuffle=True)\n",
    "accuracy = []\n",
    "test_loss_list=[]\n",
    "test_score_list = []\n",
    "\n",
    "\n",
    "# call the build_model()\n",
    "model = build_model()\n",
    "optimizer = tf.keras.optimizers.Adam(config.learning_rate) \n",
    "model.compile(optimizer=optimizer,\n",
    "              loss = config.loss_function,\n",
    "              metrics = ['accuracy']\n",
    "              )\n",
    "\n",
    "\n",
    "# Original Dataset\n",
    "print('Original Dataset')\n",
    "X_model_train = X[train]\n",
    "y_model_train = Y[train]\n",
    "print('      X_model_train:',X_model_train.shape)\n",
    "print('      y_model_train:',y_model_train.shape)\n",
    "\n",
    "# Performing Oversampling\n",
    "print('>> Oversampling')\n",
    "balance = get_balance(y_model_train)\n",
    "max_num = np.max(balance)\n",
    "X_model_train_oversampled = np.zeros((max_num*3,img_size,img_size))\n",
    "y_model_train_oversampled = np.zeros((max_num*3,3))\n",
    "X_model_train_oversampled, y_model_train_oversampled = oversampling(X_model_train, y_model_train, max_num, 0)\n",
    "\n",
    "print('after oversampling')\n",
    "print('   X_model_train_oversampled',X_model_train_oversampled.shape)\n",
    "print('   y_model_train_oversampled',y_model_train_oversampled.shape)\n",
    "print()"
   ]
  },
  {
   "cell_type": "code",
   "execution_count": 20,
   "id": "40885b2a",
   "metadata": {},
   "outputs": [
    {
     "name": "stdout",
     "output_type": "stream",
     "text": [
      ">> Augmentation1\n",
      "      X_aug_train1: (7590, 224, 224)\n",
      "      X_aug_train2: (7590, 224, 224)\n",
      "      X_model_train: (20380, 224, 224)\n",
      "      y_model_train: (20380, 3)\n"
     ]
    }
   ],
   "source": [
    "# Performing Augmentation \n",
    "print('>> Augmentation1')\n",
    "X_aug_train1 = np.stack(get_alb_aug(X_model_train_oversampled)).reshape(-1, img_size, img_size).astype('float32')\n",
    "X_aug_train2 = np.stack(get_alb_aug(X_model_train_oversampled)).reshape(-1, img_size, img_size).astype('float32')\n",
    "print('      X_aug_train1:',X_aug_train1.shape)\n",
    "print('      X_aug_train2:',X_aug_train2.shape)\n",
    "X_model_train = np.concatenate([X_model_train, X_aug_train1, X_aug_train2]) \n",
    "del(X_aug_train1)\n",
    "del(X_aug_train2)\n",
    "y_model_train = np.concatenate([y_model_train, y_model_train_oversampled, y_model_train_oversampled]) \n",
    "print('      X_model_train:',X_model_train.shape)\n",
    "print('      y_model_train:',y_model_train.shape)"
   ]
  },
  {
   "cell_type": "code",
   "execution_count": 21,
   "id": "a7d94aba",
   "metadata": {},
   "outputs": [
    {
     "name": "stdout",
     "output_type": "stream",
     "text": [
      ">> Augmentation2\n",
      "      X_aug_train3: (7590, 224, 224)\n",
      "      X_model_train: (27970, 224, 224)\n",
      "      y_model_train: (27970, 3)\n"
     ]
    }
   ],
   "source": [
    "print('>> Augmentation2')\n",
    "X_aug_train3 = np.stack(get_alb_aug(X_model_train_oversampled)).reshape(-1, img_size, img_size).astype('float32')\n",
    "print('      X_aug_train3:',X_aug_train3.shape)\n",
    "del(X_model_train_oversampled)\n",
    "X_model_train = np.concatenate([X_model_train, X_aug_train3])\n",
    "del(X_aug_train3)\n",
    "y_model_train = np.concatenate([y_model_train, y_model_train_oversampled])\n",
    "del(y_model_train_oversampled)\n",
    "print('      X_model_train:',X_model_train.shape)\n",
    "print('      y_model_train:',y_model_train.shape)"
   ]
  },
  {
   "cell_type": "code",
   "execution_count": 22,
   "id": "12cdc2e0",
   "metadata": {},
   "outputs": [
    {
     "name": "stdout",
     "output_type": "stream",
     "text": [
      ">> Undersampling\n",
      "      max_num: 10120\n",
      "      target_num: [   0 1201 1189]\n",
      "      X_model_train_u: (2390, 224, 224)\n",
      "      X_model_train_u: (2390, 224, 224)\n",
      "      y_model_train_u: (2390, 3)\n"
     ]
    }
   ],
   "source": [
    "# Performing Undersampling\n",
    "print('>> Undersampling')\n",
    "balance = get_balance(y_model_train)\n",
    "max_num = np.max(balance)\n",
    "target_num = np.array([max_num-balance[0], max_num-balance[1], max_num-balance[2]],dtype='uint32')\n",
    "print('      max_num:',max_num)\n",
    "print('      target_num:',target_num)\n",
    "X_model_train_u =  np.zeros((np.sum(target_num),img_size,img_size))\n",
    "print('      X_model_train_u:',X_model_train_u.shape)\n",
    "y_model_train_u =  np.zeros((np.sum(target_num),3))\n",
    "X_model_train_u, y_model_train_u = undersampling(X_model_train.copy(), y_model_train.copy(), target_num, 0)\n",
    "print('      X_model_train_u:',X_model_train_u.shape)\n",
    "print('      y_model_train_u:',y_model_train_u.shape)"
   ]
  },
  {
   "cell_type": "code",
   "execution_count": 23,
   "id": "c999c541",
   "metadata": {},
   "outputs": [
    {
     "name": "stdout",
     "output_type": "stream",
     "text": [
      ">> final Concatenate \n",
      "      X_model_train: (30360, 224, 224)\n",
      "      y_model_train: (30360, 3)\n"
     ]
    }
   ],
   "source": [
    "# Concatenating the results\n",
    "print('>> final Concatenate ')\n",
    "X_model_train = np.concatenate([X_model_train, X_model_train_u])\n",
    "del(X_model_train_u)\n",
    "y_model_train = np.concatenate([y_model_train, y_model_train_u])\n",
    "del(y_model_train_u)\n",
    "print('      X_model_train:',X_model_train.shape)\n",
    "print('      y_model_train:',y_model_train.shape)\n"
   ]
  },
  {
   "cell_type": "code",
   "execution_count": 24,
   "id": "e7f13566",
   "metadata": {},
   "outputs": [
    {
     "name": "stdout",
     "output_type": "stream",
     "text": [
      "data size:  30360\n",
      "batch_size:  32\n",
      "nb_epochs:  50\n",
      "nb_train_steps:  948\n",
      "\n"
     ]
    }
   ],
   "source": [
    "X_model_val = X_val\n",
    "y_model_val = y_val\n",
    "\n",
    "print('data size: ', X_model_train.shape[0])\n",
    "print('batch_size: ',config.batch_size)\n",
    "print('nb_epochs: ',config.epochs)\n",
    "print('nb_train_steps: ', X_model_train.shape[0]//config.batch_size)\n",
    "print()\n",
    "import warnings\n",
    "warnings.filterwarnings('ignore')\n"
   ]
  },
  {
   "cell_type": "markdown",
   "id": "686c9f31",
   "metadata": {},
   "source": [
    "#### Run"
   ]
  },
  {
   "cell_type": "code",
   "execution_count": 25,
   "id": "3819a338",
   "metadata": {},
   "outputs": [
    {
     "name": "stdout",
     "output_type": "stream",
     "text": [
      "-----Start-----\n",
      "Epoch 1/50\n",
      "949/949 [==============================] - ETA: 0s - loss: 1.3234 - accuracy: 0.5591WARNING:tensorflow:Your input ran out of data; interrupting training. Make sure that your dataset or generator can generate at least `steps_per_epoch * epochs` batches (in this case, 5 batches). You may need to use the repeat() function when building your dataset.\n",
      "\n",
      "Epoch 00001: loss improved from inf to 1.32337, saving model to /Users/panka/Sharukh Project/chest_xray/checkpoint\\01-0.55912.h5\n",
      "949/949 [==============================] - 1164s 1s/step - loss: 1.3234 - accuracy: 0.5591 - val_loss: 1.9570 - val_accuracy: 0.3750 - lr: 1.0000e-04\n",
      "Epoch 2/50\n",
      "949/949 [==============================] - ETA: 0s - loss: 1.0901 - accuracy: 0.6555\n",
      "Epoch 00002: loss improved from 1.32337 to 1.09010, saving model to /Users/panka/Sharukh Project/chest_xray/checkpoint\\02-0.65550.h5\n",
      "949/949 [==============================] - 1159s 1s/step - loss: 1.0901 - accuracy: 0.6555 - lr: 1.0000e-04\n",
      "Epoch 3/50\n",
      "949/949 [==============================] - ETA: 0s - loss: 0.9983 - accuracy: 0.6841\n",
      "Epoch 00003: loss improved from 1.09010 to 0.99828, saving model to /Users/panka/Sharukh Project/chest_xray/checkpoint\\03-0.68412.h5\n",
      "949/949 [==============================] - 1159s 1s/step - loss: 0.9983 - accuracy: 0.6841 - lr: 1.0000e-04\n",
      "Epoch 4/50\n",
      "949/949 [==============================] - ETA: 0s - loss: 0.9329 - accuracy: 0.7070\n",
      "Epoch 00004: loss improved from 0.99828 to 0.93290, saving model to /Users/panka/Sharukh Project/chest_xray/checkpoint\\04-0.70702.h5\n",
      "949/949 [==============================] - 1151s 1s/step - loss: 0.9329 - accuracy: 0.7070 - lr: 1.0000e-04\n",
      "Epoch 5/50\n",
      "949/949 [==============================] - ETA: 0s - loss: 0.8726 - accuracy: 0.7210\n",
      "Epoch 00005: loss improved from 0.93290 to 0.87256, saving model to /Users/panka/Sharukh Project/chest_xray/checkpoint\\05-0.72101.h5\n",
      "949/949 [==============================] - 1154s 1s/step - loss: 0.8726 - accuracy: 0.7210 - lr: 1.0000e-04\n",
      "Epoch 6/50\n",
      "949/949 [==============================] - ETA: 0s - loss: 0.8280 - accuracy: 0.7304\n",
      "Epoch 00006: loss improved from 0.87256 to 0.82798, saving model to /Users/panka/Sharukh Project/chest_xray/checkpoint\\06-0.73043.h5\n",
      "949/949 [==============================] - 1151s 1s/step - loss: 0.8280 - accuracy: 0.7304 - lr: 1.0000e-04\n",
      "Epoch 7/50\n",
      "949/949 [==============================] - ETA: 0s - loss: 0.7829 - accuracy: 0.7389\n",
      "Epoch 00007: loss improved from 0.82798 to 0.78291, saving model to /Users/panka/Sharukh Project/chest_xray/checkpoint\\07-0.73893.h5\n",
      "949/949 [==============================] - 1154s 1s/step - loss: 0.7829 - accuracy: 0.7389 - lr: 1.0000e-04\n",
      "Epoch 8/50\n",
      "949/949 [==============================] - ETA: 0s - loss: 0.7471 - accuracy: 0.7431\n",
      "Epoch 00008: loss improved from 0.78291 to 0.74709, saving model to /Users/panka/Sharukh Project/chest_xray/checkpoint\\08-0.74312.h5\n",
      "949/949 [==============================] - 1156s 1s/step - loss: 0.7471 - accuracy: 0.7431 - lr: 1.0000e-04\n",
      "Epoch 9/50\n",
      "949/949 [==============================] - ETA: 0s - loss: 0.7064 - accuracy: 0.7512\n",
      "Epoch 00009: loss improved from 0.74709 to 0.70637, saving model to /Users/panka/Sharukh Project/chest_xray/checkpoint\\09-0.75119.h5\n",
      "949/949 [==============================] - 1153s 1s/step - loss: 0.7064 - accuracy: 0.7512 - lr: 1.0000e-04\n",
      "Epoch 10/50\n",
      "949/949 [==============================] - ETA: 0s - loss: 0.6889 - accuracy: 0.7502\n",
      "Epoch 00010: loss improved from 0.70637 to 0.68885, saving model to /Users/panka/Sharukh Project/chest_xray/checkpoint\\10-0.75020.h5\n",
      "949/949 [==============================] - 1153s 1s/step - loss: 0.6889 - accuracy: 0.7502 - lr: 1.0000e-04\n",
      "Epoch 11/50\n",
      "949/949 [==============================] - ETA: 0s - loss: 0.6624 - accuracy: 0.7565\n",
      "Epoch 00011: loss improved from 0.68885 to 0.66239, saving model to /Users/panka/Sharukh Project/chest_xray/checkpoint\\11-0.75646.h5\n",
      "949/949 [==============================] - 1152s 1s/step - loss: 0.6624 - accuracy: 0.7565 - lr: 1.0000e-04\n",
      "Epoch 12/50\n",
      "949/949 [==============================] - ETA: 0s - loss: 0.6418 - accuracy: 0.7613\n",
      "Epoch 00012: loss improved from 0.66239 to 0.64175, saving model to /Users/panka/Sharukh Project/chest_xray/checkpoint\\12-0.76126.h5\n",
      "949/949 [==============================] - 1155s 1s/step - loss: 0.6418 - accuracy: 0.7613 - lr: 1.0000e-04\n",
      "Epoch 13/50\n",
      "949/949 [==============================] - ETA: 0s - loss: 0.6262 - accuracy: 0.7639\n",
      "Epoch 00013: loss improved from 0.64175 to 0.62615, saving model to /Users/panka/Sharukh Project/chest_xray/checkpoint\\13-0.76390.h5\n",
      "949/949 [==============================] - 1155s 1s/step - loss: 0.6262 - accuracy: 0.7639 - lr: 1.0000e-04\n",
      "Epoch 14/50\n",
      "949/949 [==============================] - ETA: 0s - loss: 0.6089 - accuracy: 0.7666\n",
      "Epoch 00014: loss improved from 0.62615 to 0.60890, saving model to /Users/panka/Sharukh Project/chest_xray/checkpoint\\14-0.76657.h5\n",
      "949/949 [==============================] - 1153s 1s/step - loss: 0.6089 - accuracy: 0.7666 - lr: 1.0000e-04\n",
      "Epoch 15/50\n",
      "949/949 [==============================] - ETA: 0s - loss: 0.5979 - accuracy: 0.7731\n",
      "Epoch 00015: loss improved from 0.60890 to 0.59791, saving model to /Users/panka/Sharukh Project/chest_xray/checkpoint\\15-0.77306.h5\n",
      "949/949 [==============================] - 1153s 1s/step - loss: 0.5979 - accuracy: 0.7731 - lr: 1.0000e-04\n",
      "Epoch 16/50\n",
      "949/949 [==============================] - ETA: 0s - loss: 0.5863 - accuracy: 0.7743\n",
      "Epoch 00016: loss improved from 0.59791 to 0.58626, saving model to /Users/panka/Sharukh Project/chest_xray/checkpoint\\16-0.77428.h5\n",
      "949/949 [==============================] - 1154s 1s/step - loss: 0.5863 - accuracy: 0.7743 - lr: 1.0000e-04\n",
      "Epoch 17/50\n",
      "949/949 [==============================] - ETA: 0s - loss: 0.5714 - accuracy: 0.7752\n",
      "Epoch 00017: loss improved from 0.58626 to 0.57141, saving model to /Users/panka/Sharukh Project/chest_xray/checkpoint\\17-0.77523.h5\n",
      "949/949 [==============================] - 1149s 1s/step - loss: 0.5714 - accuracy: 0.7752 - lr: 1.0000e-04\n",
      "Epoch 18/50\n",
      "949/949 [==============================] - ETA: 0s - loss: 0.5610 - accuracy: 0.7803\n",
      "Epoch 00018: loss improved from 0.57141 to 0.56099, saving model to /Users/panka/Sharukh Project/chest_xray/checkpoint\\18-0.78030.h5\n",
      "949/949 [==============================] - 1157s 1s/step - loss: 0.5610 - accuracy: 0.7803 - lr: 1.0000e-04\n",
      "Epoch 19/50\n",
      "949/949 [==============================] - ETA: 0s - loss: 0.5599 - accuracy: 0.7828\n",
      "Epoch 00019: loss improved from 0.56099 to 0.55989, saving model to /Users/panka/Sharukh Project/chest_xray/checkpoint\\19-0.78277.h5\n",
      "949/949 [==============================] - 1171s 1s/step - loss: 0.5599 - accuracy: 0.7828 - lr: 1.0000e-04\n",
      "Epoch 20/50\n",
      "949/949 [==============================] - ETA: 0s - loss: 0.5476 - accuracy: 0.7828\n",
      "Epoch 00020: ReduceLROnPlateau reducing learning rate to 4.999999873689376e-05.\n",
      "\n",
      "Epoch 00020: loss improved from 0.55989 to 0.54757, saving model to /Users/panka/Sharukh Project/chest_xray/checkpoint\\20-0.78284.h5\n",
      "949/949 [==============================] - 1202s 1s/step - loss: 0.5476 - accuracy: 0.7828 - lr: 1.0000e-04\n",
      "Epoch 21/50\n",
      "949/949 [==============================] - ETA: 0s - loss: 0.5164 - accuracy: 0.7971\n",
      "Epoch 00021: loss improved from 0.54757 to 0.51641, saving model to /Users/panka/Sharukh Project/chest_xray/checkpoint\\21-0.79713.h5\n",
      "949/949 [==============================] - 1166s 1s/step - loss: 0.5164 - accuracy: 0.7971 - lr: 5.0000e-05\n",
      "Epoch 22/50\n",
      "949/949 [==============================] - ETA: 0s - loss: 0.5091 - accuracy: 0.8001\n",
      "Epoch 00022: loss improved from 0.51641 to 0.50911, saving model to /Users/panka/Sharukh Project/chest_xray/checkpoint\\22-0.80013.h5\n",
      "949/949 [==============================] - 1154s 1s/step - loss: 0.5091 - accuracy: 0.8001 - lr: 5.0000e-05\n",
      "Epoch 23/50\n",
      "949/949 [==============================] - ETA: 0s - loss: 0.5025 - accuracy: 0.8062\n",
      "Epoch 00023: loss improved from 0.50911 to 0.50248, saving model to /Users/panka/Sharukh Project/chest_xray/checkpoint\\23-0.80619.h5\n",
      "949/949 [==============================] - 1165s 1s/step - loss: 0.5025 - accuracy: 0.8062 - lr: 5.0000e-05\n",
      "Epoch 24/50\n",
      "949/949 [==============================] - ETA: 0s - loss: 0.4900 - accuracy: 0.8089\n",
      "Epoch 00024: loss improved from 0.50248 to 0.49002, saving model to /Users/panka/Sharukh Project/chest_xray/checkpoint\\24-0.80886.h5\n",
      "949/949 [==============================] - 1164s 1s/step - loss: 0.4900 - accuracy: 0.8089 - lr: 5.0000e-05\n",
      "Epoch 25/50\n",
      "949/949 [==============================] - ETA: 0s - loss: 0.4846 - accuracy: 0.8090\n",
      "Epoch 00025: loss improved from 0.49002 to 0.48458, saving model to /Users/panka/Sharukh Project/chest_xray/checkpoint\\25-0.80899.h5\n",
      "949/949 [==============================] - 1158s 1s/step - loss: 0.4846 - accuracy: 0.8090 - lr: 5.0000e-05\n",
      "Epoch 26/50\n",
      "949/949 [==============================] - ETA: 0s - loss: 0.4807 - accuracy: 0.8111\n",
      "Epoch 00026: loss improved from 0.48458 to 0.48072, saving model to /Users/panka/Sharukh Project/chest_xray/checkpoint\\26-0.81113.h5\n",
      "949/949 [==============================] - 1156s 1s/step - loss: 0.4807 - accuracy: 0.8111 - lr: 5.0000e-05\n",
      "Epoch 27/50\n",
      "949/949 [==============================] - ETA: 0s - loss: 0.4746 - accuracy: 0.8138\n",
      "Epoch 00027: loss improved from 0.48072 to 0.47464, saving model to /Users/panka/Sharukh Project/chest_xray/checkpoint\\27-0.81383.h5\n",
      "949/949 [==============================] - 1158s 1s/step - loss: 0.4746 - accuracy: 0.8138 - lr: 5.0000e-05\n",
      "Epoch 28/50\n",
      "949/949 [==============================] - ETA: 0s - loss: 0.4670 - accuracy: 0.8169\n",
      "Epoch 00028: loss improved from 0.47464 to 0.46697, saving model to /Users/panka/Sharukh Project/chest_xray/checkpoint\\28-0.81690.h5\n",
      "949/949 [==============================] - 1157s 1s/step - loss: 0.4670 - accuracy: 0.8169 - lr: 5.0000e-05\n",
      "Epoch 29/50\n",
      "949/949 [==============================] - ETA: 0s - loss: 0.4569 - accuracy: 0.8217\n",
      "Epoch 00029: loss improved from 0.46697 to 0.45691, saving model to /Users/panka/Sharukh Project/chest_xray/checkpoint\\29-0.82171.h5\n",
      "949/949 [==============================] - 1158s 1s/step - loss: 0.4569 - accuracy: 0.8217 - lr: 5.0000e-05\n",
      "Epoch 30/50\n",
      "949/949 [==============================] - ETA: 0s - loss: 0.4597 - accuracy: 0.8177\n",
      "Epoch 00030: loss did not improve from 0.45691\n",
      "949/949 [==============================] - 1157s 1s/step - loss: 0.4597 - accuracy: 0.8177 - lr: 5.0000e-05\n",
      "Epoch 31/50\n",
      "949/949 [==============================] - ETA: 0s - loss: 0.4550 - accuracy: 0.8246\n",
      "Epoch 00031: loss improved from 0.45691 to 0.45497, saving model to /Users/panka/Sharukh Project/chest_xray/checkpoint\\31-0.82460.h5\n",
      "949/949 [==============================] - 1155s 1s/step - loss: 0.4550 - accuracy: 0.8246 - lr: 5.0000e-05\n",
      "Epoch 32/50\n",
      "949/949 [==============================] - ETA: 0s - loss: 0.4513 - accuracy: 0.8236\n",
      "Epoch 00032: loss improved from 0.45497 to 0.45126, saving model to /Users/panka/Sharukh Project/chest_xray/checkpoint\\32-0.82355.h5\n",
      "949/949 [==============================] - 1155s 1s/step - loss: 0.4513 - accuracy: 0.8236 - lr: 5.0000e-05\n",
      "Epoch 33/50\n",
      "949/949 [==============================] - ETA: 0s - loss: 0.4468 - accuracy: 0.8238\n",
      "Epoch 00033: loss improved from 0.45126 to 0.44679, saving model to /Users/panka/Sharukh Project/chest_xray/checkpoint\\33-0.82381.h5\n",
      "949/949 [==============================] - 1156s 1s/step - loss: 0.4468 - accuracy: 0.8238 - lr: 5.0000e-05\n",
      "Epoch 34/50\n",
      "949/949 [==============================] - ETA: 0s - loss: 0.4424 - accuracy: 0.8266\n",
      "Epoch 00034: ReduceLROnPlateau reducing learning rate to 2.499999936844688e-05.\n",
      "\n",
      "Epoch 00034: loss improved from 0.44679 to 0.44237, saving model to /Users/panka/Sharukh Project/chest_xray/checkpoint\\34-0.82661.h5\n",
      "949/949 [==============================] - 1152s 1s/step - loss: 0.4424 - accuracy: 0.8266 - lr: 5.0000e-05\n",
      "Epoch 35/50\n",
      "949/949 [==============================] - ETA: 0s - loss: 0.4236 - accuracy: 0.8347\n",
      "Epoch 00035: loss improved from 0.44237 to 0.42356, saving model to /Users/panka/Sharukh Project/chest_xray/checkpoint\\35-0.83468.h5\n",
      "949/949 [==============================] - 1156s 1s/step - loss: 0.4236 - accuracy: 0.8347 - lr: 2.5000e-05\n",
      "Epoch 36/50\n",
      "949/949 [==============================] - ETA: 0s - loss: 0.4169 - accuracy: 0.8407\n",
      "Epoch 00036: loss improved from 0.42356 to 0.41685, saving model to /Users/panka/Sharukh Project/chest_xray/checkpoint\\36-0.84068.h5\n",
      "949/949 [==============================] - 1159s 1s/step - loss: 0.4169 - accuracy: 0.8407 - lr: 2.5000e-05\n",
      "Epoch 37/50\n",
      "949/949 [==============================] - ETA: 0s - loss: 0.4132 - accuracy: 0.8413\n",
      "Epoch 00037: loss improved from 0.41685 to 0.41324, saving model to /Users/panka/Sharukh Project/chest_xray/checkpoint\\37-0.84134.h5\n",
      "949/949 [==============================] - 1156s 1s/step - loss: 0.4132 - accuracy: 0.8413 - lr: 2.5000e-05\n",
      "Epoch 38/50\n",
      "949/949 [==============================] - ETA: 0s - loss: 0.4091 - accuracy: 0.8420\n",
      "Epoch 00038: loss improved from 0.41324 to 0.40914, saving model to /Users/panka/Sharukh Project/chest_xray/checkpoint\\38-0.84200.h5\n",
      "949/949 [==============================] - 1153s 1s/step - loss: 0.4091 - accuracy: 0.8420 - lr: 2.5000e-05\n",
      "Epoch 39/50\n",
      "949/949 [==============================] - ETA: 0s - loss: 0.3965 - accuracy: 0.8480\n",
      "Epoch 00039: loss improved from 0.40914 to 0.39646, saving model to /Users/panka/Sharukh Project/chest_xray/checkpoint\\39-0.84802.h5\n",
      "949/949 [==============================] - 1160s 1s/step - loss: 0.3965 - accuracy: 0.8480 - lr: 2.5000e-05\n",
      "Epoch 40/50\n",
      "949/949 [==============================] - ETA: 0s - loss: 0.3926 - accuracy: 0.8493\n",
      "Epoch 00040: loss improved from 0.39646 to 0.39256, saving model to /Users/panka/Sharukh Project/chest_xray/checkpoint\\40-0.84928.h5\n",
      "949/949 [==============================] - 1162s 1s/step - loss: 0.3926 - accuracy: 0.8493 - lr: 2.5000e-05\n",
      "Epoch 41/50\n",
      "949/949 [==============================] - ETA: 0s - loss: 0.3952 - accuracy: 0.8516\n",
      "Epoch 00041: loss did not improve from 0.39256\n",
      "949/949 [==============================] - 1154s 1s/step - loss: 0.3952 - accuracy: 0.8516 - lr: 2.5000e-05\n",
      "Epoch 42/50\n",
      "949/949 [==============================] - ETA: 0s - loss: 0.3884 - accuracy: 0.8534\n",
      "Epoch 00042: loss improved from 0.39256 to 0.38835, saving model to /Users/panka/Sharukh Project/chest_xray/checkpoint\\42-0.85339.h5\n",
      "949/949 [==============================] - 1150s 1s/step - loss: 0.3884 - accuracy: 0.8534 - lr: 2.5000e-05\n",
      "Epoch 43/50\n",
      "949/949 [==============================] - ETA: 0s - loss: 0.3887 - accuracy: 0.8531\n",
      "Epoch 00043: loss did not improve from 0.38835\n",
      "949/949 [==============================] - 1145s 1s/step - loss: 0.3887 - accuracy: 0.8531 - lr: 2.5000e-05\n",
      "Epoch 44/50\n",
      "949/949 [==============================] - ETA: 0s - loss: 0.3852 - accuracy: 0.8537\n",
      "Epoch 00044: ReduceLROnPlateau reducing learning rate to 1.249999968422344e-05.\n",
      "\n",
      "Epoch 00044: loss improved from 0.38835 to 0.38517, saving model to /Users/panka/Sharukh Project/chest_xray/checkpoint\\44-0.85369.h5\n",
      "949/949 [==============================] - 1149s 1s/step - loss: 0.3852 - accuracy: 0.8537 - lr: 2.5000e-05\n",
      "Epoch 45/50\n",
      "949/949 [==============================] - ETA: 0s - loss: 0.3710 - accuracy: 0.8615\n",
      "Epoch 00045: loss improved from 0.38517 to 0.37098, saving model to /Users/panka/Sharukh Project/chest_xray/checkpoint\\45-0.86153.h5\n",
      "949/949 [==============================] - 1155s 1s/step - loss: 0.3710 - accuracy: 0.8615 - lr: 1.2500e-05\n",
      "Epoch 46/50\n",
      "949/949 [==============================] - ETA: 0s - loss: 0.3679 - accuracy: 0.8637\n",
      "Epoch 00046: loss improved from 0.37098 to 0.36790, saving model to /Users/panka/Sharukh Project/chest_xray/checkpoint\\46-0.86370.h5\n",
      "949/949 [==============================] - 1154s 1s/step - loss: 0.3679 - accuracy: 0.8637 - lr: 1.2500e-05\n",
      "Epoch 47/50\n",
      "949/949 [==============================] - ETA: 0s - loss: 0.3582 - accuracy: 0.8681\n",
      "Epoch 00047: loss improved from 0.36790 to 0.35817, saving model to /Users/panka/Sharukh Project/chest_xray/checkpoint\\47-0.86812.h5\n",
      "949/949 [==============================] - 1156s 1s/step - loss: 0.3582 - accuracy: 0.8681 - lr: 1.2500e-05\n",
      "Epoch 48/50\n",
      "949/949 [==============================] - ETA: 0s - loss: 0.3571 - accuracy: 0.8672\n",
      "Epoch 00048: loss improved from 0.35817 to 0.35706, saving model to /Users/panka/Sharukh Project/chest_xray/checkpoint\\48-0.86723.h5\n",
      "949/949 [==============================] - 1153s 1s/step - loss: 0.3571 - accuracy: 0.8672 - lr: 1.2500e-05\n"
     ]
    },
    {
     "name": "stdout",
     "output_type": "stream",
     "text": [
      "Epoch 49/50\n",
      "949/949 [==============================] - ETA: 0s - loss: 0.3570 - accuracy: 0.8684\n",
      "Epoch 00049: loss improved from 0.35706 to 0.35697, saving model to /Users/panka/Sharukh Project/chest_xray/checkpoint\\49-0.86841.h5\n",
      "949/949 [==============================] - 1153s 1s/step - loss: 0.3570 - accuracy: 0.8684 - lr: 1.2500e-05\n",
      "Epoch 50/50\n",
      "949/949 [==============================] - ETA: 0s - loss: 0.3517 - accuracy: 0.8698\n",
      "Epoch 00050: ReduceLROnPlateau reducing learning rate to 6.24999984211172e-06.\n",
      "\n",
      "Epoch 00050: loss improved from 0.35697 to 0.35166, saving model to /Users/panka/Sharukh Project/chest_xray/checkpoint\\50-0.86983.h5\n",
      "949/949 [==============================] - 1153s 1s/step - loss: 0.3517 - accuracy: 0.8698 - lr: 1.2500e-05\n"
     ]
    },
    {
     "data": {
      "text/html": [
       "<br/>Waiting for W&B process to finish, PID 12852... <strong style=\"color:green\">(success).</strong>"
      ],
      "text/plain": [
       "<IPython.core.display.HTML object>"
      ]
     },
     "metadata": {},
     "output_type": "display_data"
    },
    {
     "data": {
      "application/vnd.jupyter.widget-view+json": {
       "model_id": "",
       "version_major": 2,
       "version_minor": 0
      },
      "text/plain": [
       "VBox(children=(Label(value=' 208.14MB of 208.14MB uploaded (0.00MB deduped)\\r'), FloatProgress(value=1.0, max=…"
      ]
     },
     "metadata": {},
     "output_type": "display_data"
    },
    {
     "data": {
      "text/html": [
       "<style>\n",
       "    table.wandb td:nth-child(1) { padding: 0 10px; text-align: right }\n",
       "    .wandb-row { display: flex; flex-direction: row; flex-wrap: wrap; width: 100% }\n",
       "    .wandb-col { display: flex; flex-direction: column; flex-basis: 100%; flex: 1; padding: 10px; }\n",
       "    </style>\n",
       "<div class=\"wandb-row\"><div class=\"wandb-col\">\n",
       "<h3>Run history:</h3><br/><table class=\"wandb\"><tr><td>accuracy</td><td>▁▃▄▄▅▅▅▅▅▆▆▆▆▆▆▆▆▆▇▇▇▇▇▇▇▇▇▇▇▇▇█████████</td></tr><tr><td>epoch</td><td>▁▁▁▁▂▂▂▂▂▃▃▃▃▃▃▄▄▄▄▄▅▅▅▅▅▅▆▆▆▆▆▆▇▇▇▇▇███</td></tr><tr><td>loss</td><td>█▆▆▅▄▄▄▄▃▃▃▃▃▃▃▃▂▂▂▂▂▂▂▂▂▂▂▂▁▁▁▁▁▁▁▁▁▁▁▁</td></tr><tr><td>lr</td><td>████████████████▄▄▄▄▄▄▄▄▄▄▄▄▂▂▂▂▂▂▂▂▁▁▁▁</td></tr><tr><td>val_accuracy</td><td>▁</td></tr><tr><td>val_loss</td><td>▁</td></tr></table><br/></div><div class=\"wandb-col\">\n",
       "<h3>Run summary:</h3><br/><table class=\"wandb\"><tr><td>accuracy</td><td>0.86983</td></tr><tr><td>best_epoch</td><td>0</td></tr><tr><td>best_val_loss</td><td>1.95701</td></tr><tr><td>epoch</td><td>49</td></tr><tr><td>loss</td><td>0.35166</td></tr><tr><td>lr</td><td>1e-05</td></tr><tr><td>val_accuracy</td><td>0.375</td></tr><tr><td>val_loss</td><td>1.95701</td></tr></table>\n",
       "</div></div>\n",
       "Synced 6 W&B file(s), 1 media file(s), 0 artifact file(s) and 1 other file(s)\n",
       "<br/>Synced <strong style=\"color:#cdcd00\">olive-rain-31</strong>: <a href=\"https://wandb.ai/sharukh/Final_AIAS/runs/12u17us2\" target=\"_blank\">https://wandb.ai/sharukh/Final_AIAS/runs/12u17us2</a><br/>\n",
       "Find logs at: <code>.\\wandb\\run-20211208_065612-12u17us2\\logs</code><br/>\n"
      ],
      "text/plain": [
       "<IPython.core.display.HTML object>"
      ]
     },
     "metadata": {},
     "output_type": "display_data"
    }
   ],
   "source": [
    "print(\"-----Start-----\")\n",
    " \n",
    "history = model.fit(X_model_train, y_model_train,\n",
    "                        epochs=config.epochs,\n",
    "                        batch_size = config.batch_size,\n",
    "                        validation_data = (X_model_val, y_model_val),\n",
    "                        validation_steps = 5,\n",
    "                        callbacks = callbacks)\n",
    "\n",
    "run.join()"
   ]
  },
  {
   "cell_type": "markdown",
   "id": "a36fcc1c",
   "metadata": {},
   "source": [
    "#### Validation - Accuracy & Loss vs Epochs"
   ]
  },
  {
   "cell_type": "code",
   "execution_count": 56,
   "id": "e4bc8316",
   "metadata": {},
   "outputs": [
    {
     "data": {
      "image/png": "[encoded data removed]",
      "text/plain": [
       "<Figure size 1440x720 with 2 Axes>"
      ]
     },
     "metadata": {},
     "output_type": "display_data"
    }
   ],
   "source": [
    "epochs = [i for i in range(50)] \n",
    "fig , ax = plt.subplots(1,2)\n",
    "train_acc = history.history['accuracy']\n",
    "train_loss = history.history['loss']\n",
    "fig.set_size_inches(20,10)\n",
    "\n",
    "ax[0].plot(epochs , train_acc , 'go-' , label = 'Accuracy')\n",
    "ax[0].set_title('Accuracy per Epochs')\n",
    "ax[0].legend()\n",
    "ax[0].set_xlabel(\"Epochs\")\n",
    "ax[0].set_ylabel(\"Accuracy\")\n",
    "\n",
    "ax[1].plot(epochs , train_loss , 'g-o' , label = 'Loss')\n",
    "ax[1].set_title('Loss per Epochs')\n",
    "ax[1].legend()\n",
    "ax[1].set_xlabel(\"Epochs\")\n",
    "ax[1].set_ylabel(\"Loss\")\n",
    "plt.show()"
   ]
  },
  {
   "cell_type": "markdown",
   "id": "7d5bfae0",
   "metadata": {},
   "source": [
    "#### Validation - Precision & Recall"
   ]
  },
  {
   "cell_type": "code",
   "execution_count": 7,
   "id": "5d9dcc30",
   "metadata": {},
   "outputs": [
    {
     "name": "stdout",
     "output_type": "stream",
     "text": [
      "Precision_bacterial of the model is 0.82\n",
      "Recall_bacterial of the model is 0.87\n",
      "\n",
      "Precision_viral of the model is 0.79\n",
      "Recall_viral of the model is 0.71\n",
      "\n",
      "Precision_normal of the model is 0.95\n",
      "Recall_normal of the model is 0.93\n",
      "\n"
     ]
    }
   ],
   "source": [
    "y_pred = model.predict(X_val)\n",
    "cm = confusion_matrix(np.argmax(y_val, axis=1),\n",
    "                      np.argmax(y_pred, axis=1))\n",
    "cm = pd.DataFrame(cm , index = ['0','1','2,'] , columns = ['0','1','2'])\n",
    "\n",
    "bb, bv, bn, vb, vv, vn, nb, nv, nn = cm.values.ravel()\n",
    "\n",
    "precision_b = bb/(bb+vb+nb) \n",
    "recall_b = bb/(bn+bv+bb)\n",
    "\n",
    "precision_v = vv/(bv+vv+nv) \n",
    "recall_v = vv/(vn+vv+vb)\n",
    "\n",
    "precision_n = nn/(bn+vn+nn) \n",
    "recall_n = nn/(nn+nv+nb)\n",
    "\n",
    "\n",
    "print(\"Precision_bacterial of the model is {:.2f}\".format(precision_b))\n",
    "print(\"Recall_bacterial of the model is {:.2f}\\n\".format(recall_b))\n",
    "\n",
    "print(\"Precision_viral of the model is {:.2f}\".format(precision_v))\n",
    "print(\"Recall_viral of the model is {:.2f}\\n\".format(recall_v))\n",
    "\n",
    "print(\"Precision_normal of the model is {:.2f}\".format(precision_n))\n",
    "print(\"Recall_normal of the model is {:.2f}\\n\".format(recall_n))"
   ]
  }
 ],
 "metadata": {
  "kernelspec": {
   "display_name": "Python 3 (ipykernel)",
   "language": "python",
   "name": "python3"
  },
  "language_info": {
   "codemirror_mode": {
    "name": "ipython",
    "version": 3
   },
   "file_extension": ".py",
   "mimetype": "text/x-python",
   "name": "python",
   "nbconvert_exporter": "python",
   "pygments_lexer": "ipython3",
   "version": "3.9.7"
  }
 },
 "nbformat": 4,
 "nbformat_minor": 5
}
